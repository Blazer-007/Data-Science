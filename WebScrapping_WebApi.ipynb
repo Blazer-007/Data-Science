{
  "nbformat": 4,
  "nbformat_minor": 0,
  "metadata": {
    "colab": {
      "name": "WebScrapping_WebApi.ipynb",
      "provenance": [],
      "authorship_tag": "ABX9TyP0cFBDM+AB+IoCQ+m/75x1",
      "include_colab_link": true
    },
    "kernelspec": {
      "name": "python3",
      "display_name": "Python 3"
    }
  },
  "cells": [
    {
      "cell_type": "markdown",
      "metadata": {
        "id": "view-in-github",
        "colab_type": "text"
      },
      "source": [
        "<a href=\"https://colab.research.google.com/github/Blazer-007/Data-Science/blob/master/WebScrapping_WebApi.ipynb\" target=\"_parent\"><img src=\"https://colab.research.google.com/assets/colab-badge.svg\" alt=\"Open In Colab\"/></a>"
      ]
    },
    {
      "cell_type": "code",
      "metadata": {
        "id": "cymPlZJif_vm",
        "colab_type": "code",
        "colab": {}
      },
      "source": [
        "from urllib.request import urlopen"
      ],
      "execution_count": 0,
      "outputs": []
    },
    {
      "cell_type": "code",
      "metadata": {
        "id": "uoQHzuHOgUdo",
        "colab_type": "code",
        "colab": {}
      },
      "source": [
        "api_url = \"https://samples.openweathermap.org/data/2.5/weather?q=London,uk&appid=b6907d289e10d714a6e88b30761fae22\""
      ],
      "execution_count": 0,
      "outputs": []
    },
    {
      "cell_type": "code",
      "metadata": {
        "id": "82Kyau_5hGW8",
        "colab_type": "code",
        "outputId": "e27c7d66-56b4-4084-d371-4ad1301bba9f",
        "colab": {
          "base_uri": "https://localhost:8080/",
          "height": 72
        }
      },
      "source": [
        "url_result = urlopen(api_url)\n",
        "data = url_result.read()\n",
        "print(type(data))\n",
        "print(data)"
      ],
      "execution_count": 72,
      "outputs": [
        {
          "output_type": "stream",
          "text": [
            "<class 'bytes'>\n",
            "b'{\"coord\":{\"lon\":-0.13,\"lat\":51.51},\"weather\":[{\"id\":300,\"main\":\"Drizzle\",\"description\":\"light intensity drizzle\",\"icon\":\"09d\"}],\"base\":\"stations\",\"main\":{\"temp\":280.32,\"pressure\":1012,\"humidity\":81,\"temp_min\":279.15,\"temp_max\":281.15},\"visibility\":10000,\"wind\":{\"speed\":4.1,\"deg\":80},\"clouds\":{\"all\":90},\"dt\":1485789600,\"sys\":{\"type\":1,\"id\":5091,\"message\":0.0103,\"country\":\"GB\",\"sunrise\":1485762037,\"sunset\":1485794875},\"id\":2643743,\"name\":\"London\",\"cod\":200}'\n"
          ],
          "name": "stdout"
        }
      ]
    },
    {
      "cell_type": "code",
      "metadata": {
        "id": "VR4PNOJ1hXEh",
        "colab_type": "code",
        "colab": {}
      },
      "source": [
        "import json"
      ],
      "execution_count": 0,
      "outputs": []
    },
    {
      "cell_type": "code",
      "metadata": {
        "id": "OExt101Fhabc",
        "colab_type": "code",
        "colab": {}
      },
      "source": [
        "json_data = json.loads(data)"
      ],
      "execution_count": 0,
      "outputs": []
    },
    {
      "cell_type": "code",
      "metadata": {
        "id": "z1NmQ-wahezl",
        "colab_type": "code",
        "outputId": "f52e087d-01fb-4135-e299-72ed7e1735e2",
        "colab": {
          "base_uri": "https://localhost:8080/",
          "height": 54
        }
      },
      "source": [
        "print(json_data)"
      ],
      "execution_count": 75,
      "outputs": [
        {
          "output_type": "stream",
          "text": [
            "{'coord': {'lon': -0.13, 'lat': 51.51}, 'weather': [{'id': 300, 'main': 'Drizzle', 'description': 'light intensity drizzle', 'icon': '09d'}], 'base': 'stations', 'main': {'temp': 280.32, 'pressure': 1012, 'humidity': 81, 'temp_min': 279.15, 'temp_max': 281.15}, 'visibility': 10000, 'wind': {'speed': 4.1, 'deg': 80}, 'clouds': {'all': 90}, 'dt': 1485789600, 'sys': {'type': 1, 'id': 5091, 'message': 0.0103, 'country': 'GB', 'sunrise': 1485762037, 'sunset': 1485794875}, 'id': 2643743, 'name': 'London', 'cod': 200}\n"
          ],
          "name": "stdout"
        }
      ]
    },
    {
      "cell_type": "code",
      "metadata": {
        "id": "Cn0bQfxohqBM",
        "colab_type": "code",
        "outputId": "5786d895-6026-42a2-82c8-777d491bff15",
        "colab": {
          "base_uri": "https://localhost:8080/",
          "height": 34
        }
      },
      "source": [
        "json_data['coord']"
      ],
      "execution_count": 76,
      "outputs": [
        {
          "output_type": "execute_result",
          "data": {
            "text/plain": [
              "{'lat': 51.51, 'lon': -0.13}"
            ]
          },
          "metadata": {
            "tags": []
          },
          "execution_count": 76
        }
      ]
    },
    {
      "cell_type": "code",
      "metadata": {
        "id": "KZoFKNGRhvRr",
        "colab_type": "code",
        "outputId": "76b1eb2a-d359-4100-f28b-fce066fdfe30",
        "colab": {
          "base_uri": "https://localhost:8080/",
          "height": 34
        }
      },
      "source": [
        "json_data['name']"
      ],
      "execution_count": 77,
      "outputs": [
        {
          "output_type": "execute_result",
          "data": {
            "text/plain": [
              "'London'"
            ]
          },
          "metadata": {
            "tags": []
          },
          "execution_count": 77
        }
      ]
    },
    {
      "cell_type": "code",
      "metadata": {
        "id": "NzwnjiOJhzik",
        "colab_type": "code",
        "outputId": "f3071f75-d40c-45f6-a3e3-304d8081be55",
        "colab": {
          "base_uri": "https://localhost:8080/",
          "height": 72
        }
      },
      "source": [
        "json_string = json.dumps(json_data)\n",
        "print(json_string)\n",
        "print(type(json_string))"
      ],
      "execution_count": 78,
      "outputs": [
        {
          "output_type": "stream",
          "text": [
            "{\"coord\": {\"lon\": -0.13, \"lat\": 51.51}, \"weather\": [{\"id\": 300, \"main\": \"Drizzle\", \"description\": \"light intensity drizzle\", \"icon\": \"09d\"}], \"base\": \"stations\", \"main\": {\"temp\": 280.32, \"pressure\": 1012, \"humidity\": 81, \"temp_min\": 279.15, \"temp_max\": 281.15}, \"visibility\": 10000, \"wind\": {\"speed\": 4.1, \"deg\": 80}, \"clouds\": {\"all\": 90}, \"dt\": 1485789600, \"sys\": {\"type\": 1, \"id\": 5091, \"message\": 0.0103, \"country\": \"GB\", \"sunrise\": 1485762037, \"sunset\": 1485794875}, \"id\": 2643743, \"name\": \"London\", \"cod\": 200}\n",
            "<class 'str'>\n"
          ],
          "name": "stdout"
        }
      ]
    },
    {
      "cell_type": "code",
      "metadata": {
        "id": "t_rO2iAHiDLX",
        "colab_type": "code",
        "colab": {}
      },
      "source": [
        ""
      ],
      "execution_count": 0,
      "outputs": []
    },
    {
      "cell_type": "markdown",
      "metadata": {
        "id": "D7j6h2rfiSl7",
        "colab_type": "text"
      },
      "source": [
        "**Requests** **Library**\n",
        "\n",
        "**1**.**Facebook** **Graph** **Api**\n",
        "\n"
      ]
    },
    {
      "cell_type": "code",
      "metadata": {
        "id": "mdt-i3nqiXTg",
        "colab_type": "code",
        "colab": {}
      },
      "source": [
        "import requests"
      ],
      "execution_count": 0,
      "outputs": []
    },
    {
      "cell_type": "code",
      "metadata": {
        "id": "QIFMC1CSjv9A",
        "colab_type": "code",
        "colab": {}
      },
      "source": [
        "url = \"https://graph.facebook.com/5/picture?type=large\""
      ],
      "execution_count": 0,
      "outputs": []
    },
    {
      "cell_type": "code",
      "metadata": {
        "id": "TokkJvexj-VF",
        "colab_type": "code",
        "colab": {}
      },
      "source": [
        "r = requests.get(url)"
      ],
      "execution_count": 0,
      "outputs": []
    },
    {
      "cell_type": "code",
      "metadata": {
        "id": "k8vfmTTBkTei",
        "colab_type": "code",
        "outputId": "1221b592-4b5e-4516-9f85-e06c2e6170aa",
        "colab": {
          "base_uri": "https://localhost:8080/",
          "height": 34
        }
      },
      "source": [
        "print(r)"
      ],
      "execution_count": 82,
      "outputs": [
        {
          "output_type": "stream",
          "text": [
            "<Response [200]>\n"
          ],
          "name": "stdout"
        }
      ]
    },
    {
      "cell_type": "code",
      "metadata": {
        "id": "xfxCIAEJkYLj",
        "colab_type": "code",
        "colab": {}
      },
      "source": [
        "with open(\"sample_pic2.jpg\",\"wb\") as f:\n",
        "  f.write(r.content)"
      ],
      "execution_count": 0,
      "outputs": []
    },
    {
      "cell_type": "code",
      "metadata": {
        "id": "CNPAXhAllYP1",
        "colab_type": "code",
        "colab": {}
      },
      "source": [
        "import cv2\n",
        "import matplotlib.pyplot as plt"
      ],
      "execution_count": 0,
      "outputs": []
    },
    {
      "cell_type": "code",
      "metadata": {
        "id": "fnUdxNGOlaux",
        "colab_type": "code",
        "colab": {}
      },
      "source": [
        "img = cv2.imread('sample_pic2.jpg')"
      ],
      "execution_count": 0,
      "outputs": []
    },
    {
      "cell_type": "code",
      "metadata": {
        "id": "_Y9FXYCBlara",
        "colab_type": "code",
        "outputId": "5cae25c0-bd65-4ad8-c5c3-5012a21ed84a",
        "colab": {
          "base_uri": "https://localhost:8080/",
          "height": 286
        }
      },
      "source": [
        "plt.imshow(img)"
      ],
      "execution_count": 86,
      "outputs": [
        {
          "output_type": "execute_result",
          "data": {
            "text/plain": [
              "<matplotlib.image.AxesImage at 0x7f552cbdcef0>"
            ]
          },
          "metadata": {
            "tags": []
          },
          "execution_count": 86
        },
        {
          "output_type": "display_data",
          "data": {
            "image/png": "[encoded data removed]",
            "text/plain": [
              "<Figure size 432x288 with 1 Axes>"
            ]
          },
          "metadata": {
            "tags": []
          }
        }
      ]
    },
    {
      "cell_type": "markdown",
      "metadata": {
        "id": "fZ8Xo_kO9w_3",
        "colab_type": "text"
      },
      "source": [
        "**2**.**Google** **Api**"
      ]
    },
    {
      "cell_type": "code",
      "metadata": {
        "id": "yEg8rMj5lapS",
        "colab_type": "code",
        "colab": {}
      },
      "source": [
        "url = \"https://maps.googleapis.com/maps/api/geocode/json?\""
      ],
      "execution_count": 0,
      "outputs": []
    },
    {
      "cell_type": "code",
      "metadata": {
        "id": "jv7VxRipk7bs",
        "colab_type": "code",
        "colab": {}
      },
      "source": [
        "parameters = {\n",
        "    \"address\" : \"Motilal Nehru National Institute of Technology\",\n",
        "    \"key\" : \"Your Google Api Key Here\"\n",
        "}"
      ],
      "execution_count": 0,
      "outputs": []
    },
    {
      "cell_type": "code",
      "metadata": {
        "id": "-tSDXgso-rtA",
        "colab_type": "code",
        "colab": {}
      },
      "source": [
        "r = requests.get(url,params=parameters)"
      ],
      "execution_count": 0,
      "outputs": []
    },
    {
      "cell_type": "code",
      "metadata": {
        "id": "LcEy9kOt-xW-",
        "colab_type": "code",
        "colab": {
          "base_uri": "https://localhost:8080/",
          "height": 34
        },
        "outputId": "25d1ddce-5e35-476c-e677-907eea2dfd17"
      },
      "source": [
        "r.url"
      ],
      "execution_count": 99,
      "outputs": [
        {
          "output_type": "execute_result",
          "data": {
            "text/plain": [
              "'https://maps.googleapis.com/maps/api/geocode/json?address=Motilal+Nehru+National+Institute+of+Technology&key=Your+Google+Api+Key+Here'"
            ]
          },
          "metadata": {
            "tags": []
          },
          "execution_count": 99
        }
      ]
    },
    {
      "cell_type": "code",
      "metadata": {
        "id": "x9NHJ_jC-yof",
        "colab_type": "code",
        "colab": {
          "base_uri": "https://localhost:8080/",
          "height": 54
        },
        "outputId": "c08d47d0-e284-468f-dc48-ddb447e72930"
      },
      "source": [
        "print(r.content)"
      ],
      "execution_count": 96,
      "outputs": [
        {
          "output_type": "stream",
          "text": [
            "b'{\\n   \"results\" : [\\n      {\\n         \"address_components\" : [\\n            {\\n               \"long_name\" : \"Teliarganj\",\\n               \"short_name\" : \"Teliarganj\",\\n               \"types\" : [ \"political\", \"sublocality\", \"sublocality_level_1\" ]\\n            },\\n            {\\n               \"long_name\" : \"Barrister Mullah Colony\",\\n               \"short_name\" : \"Barrister Mullah Colony\",\\n               \"types\" : [ \"neighborhood\", \"political\" ]\\n            },\\n            {\\n               \"long_name\" : \"MNNIT Allahabad Campus\",\\n               \"short_name\" : \"MNNIT Allahabad Campus\",\\n               \"types\" : [ \"political\", \"sublocality\", \"sublocality_level_2\" ]\\n            },\\n            {\\n               \"long_name\" : \"Prayagraj\",\\n               \"short_name\" : \"Prayagraj\",\\n               \"types\" : [ \"locality\", \"political\" ]\\n            },\\n            {\\n               \"long_name\" : \"Prayagraj\",\\n               \"short_name\" : \"Prayagraj\",\\n               \"types\" : [ \"administrative_area_level_2\", \"political\" ]\\n            },\\n            {\\n               \"long_name\" : \"Uttar Pradesh\",\\n               \"short_name\" : \"UP\",\\n               \"types\" : [ \"administrative_area_level_1\", \"political\" ]\\n            },\\n            {\\n               \"long_name\" : \"India\",\\n               \"short_name\" : \"IN\",\\n               \"types\" : [ \"country\", \"political\" ]\\n            },\\n            {\\n               \"long_name\" : \"211004\",\\n               \"short_name\" : \"211004\",\\n               \"types\" : [ \"postal_code\" ]\\n            }\\n         ],\\n         \"formatted_address\" : \"Barrister Mullah Colony, MNNIT Allahabad Campus, Teliarganj, Prayagraj, Uttar Pradesh 211004, India\",\\n         \"geometry\" : {\\n            \"location\" : {\\n               \"lat\" : 25.4920102,\\n               \"lng\" : 81.8639163\\n            },\\n            \"location_type\" : \"GEOMETRIC_CENTER\",\\n            \"viewport\" : {\\n               \"northeast\" : {\\n                  \"lat\" : 25.4933591802915,\\n                  \"lng\" : 81.86526528029151\\n               },\\n               \"southwest\" : {\\n                  \"lat\" : 25.4906612197085,\\n                  \"lng\" : 81.8625673197085\\n               }\\n            }\\n         },\\n         \"place_id\" : \"ChIJUdyNgXjKmjkRW0Gh4y3dkGY\",\\n         \"plus_code\" : {\\n            \"compound_code\" : \"FVR7+RH Teliarganj, Prayagraj, Uttar Pradesh, India\",\\n            \"global_code\" : \"7MQ3FVR7+RH\"\\n         },\\n         \"types\" : [ \"establishment\", \"point_of_interest\", \"university\" ]\\n      }\\n   ],\\n   \"status\" : \"OK\"\\n}\\n'\n"
          ],
          "name": "stdout"
        }
      ]
    },
    {
      "cell_type": "code",
      "metadata": {
        "id": "qzo7cc9S-4h6",
        "colab_type": "code",
        "colab": {}
      },
      "source": [
        ""
      ],
      "execution_count": 0,
      "outputs": []
    }
  ]
}