{
  "nbformat": 4,
  "nbformat_minor": 0,
  "metadata": {
    "colab": {
      "name": "newsclassification.ipynb",
      "provenance": [],
      "collapsed_sections": [],
      "mount_file_id": "12O2mFUfZUZhW6MWK2ThAKCihcFAEFAzu",
      "authorship_tag": "ABX9TyM2l3uopAcIwB1JZhW6qVCt",
      "include_colab_link": true
    },
    "kernelspec": {
      "name": "python3",
      "display_name": "Python 3"
    },
    "accelerator": "GPU"
  },
  "cells": [
    {
      "cell_type": "markdown",
      "metadata": {
        "id": "view-in-github",
        "colab_type": "text"
      },
      "source": [
        "<a href=\"https://colab.research.google.com/github/Blazer-007/Data-Science/blob/master/newsclassification.ipynb\" target=\"_parent\"><img src=\"https://colab.research.google.com/assets/colab-badge.svg\" alt=\"Open In Colab\"/></a>"
      ]
    },
    {
      "cell_type": "code",
      "metadata": {
        "id": "FO1b1FuJOVnx"
      },
      "source": [
        "from google.colab import drive\n",
        "drive.mount('/content/gdrive')"
      ],
      "execution_count": null,
      "outputs": []
    },
    {
      "cell_type": "markdown",
      "metadata": {
        "id": "i9wdygaGOF_T"
      },
      "source": [
        "### Change BASE_DIR according to your drive folder \n",
        "- folder should be empty"
      ]
    },
    {
      "cell_type": "code",
      "metadata": {
        "id": "RnzjDbT2EzAQ"
      },
      "source": [
        "BASE_DIR = '/content/drive/My Drive/Deep_Learning /News_Classification'"
      ],
      "execution_count": 26,
      "outputs": []
    },
    {
      "cell_type": "code",
      "metadata": {
        "id": "LXXFlpi69Sua",
        "outputId": "f9c5c64b-20af-457a-aaa9-db5821de85a3",
        "colab": {
          "base_uri": "https://localhost:8080/"
        }
      },
      "source": [
        "cd '/content/drive/My Drive/Deep_Learning /News_Classification' # this should be same as BASE_DIR "
      ],
      "execution_count": 32,
      "outputs": [
        {
          "output_type": "stream",
          "text": [
            "[Errno 2] No such file or directory: '/content/drive/My Drive/Deep_Learning /News_Classification # this should be same as BASE_DIR'\n",
            "/content/drive/My Drive/Deep_Learning /News_Classification\n"
          ],
          "name": "stdout"
        }
      ]
    },
    {
      "cell_type": "code",
      "metadata": {
        "id": "3bRsyUjE9WnO",
        "outputId": "00427ec6-fbd6-44bb-e1fa-3eb035c22174",
        "colab": {
          "base_uri": "https://localhost:8080/",
          "height": 35
        }
      },
      "source": [
        "pwd"
      ],
      "execution_count": 33,
      "outputs": [
        {
          "output_type": "execute_result",
          "data": {
            "application/vnd.google.colaboratory.intrinsic+json": {
              "type": "string"
            },
            "text/plain": [
              "'/content/drive/My Drive/Deep_Learning /News_Classification'"
            ]
          },
          "metadata": {
            "tags": []
          },
          "execution_count": 33
        }
      ]
    },
    {
      "cell_type": "code",
      "metadata": {
        "id": "QJV4u8KK9eJE",
        "outputId": "5acfe7c2-aefb-48e2-86e5-589bfd8c9c19",
        "colab": {
          "base_uri": "https://localhost:8080/"
        }
      },
      "source": [
        "ls"
      ],
      "execution_count": 31,
      "outputs": [
        {
          "output_type": "stream",
          "text": [
            "\u001b[0m\u001b[01;34m20_newsgroup\u001b[0m/  \u001b[01;34mglove.6B\u001b[0m/  glove.6B.zip  news20.tar.gz  newsclassification.ipynb\n"
          ],
          "name": "stdout"
        }
      ]
    },
    {
      "cell_type": "code",
      "metadata": {
        "id": "su3uhbSCEchm"
      },
      "source": [
        "import shutil"
      ],
      "execution_count": 23,
      "outputs": []
    },
    {
      "cell_type": "markdown",
      "metadata": {
        "id": "BZWeKhe2Om7R"
      },
      "source": [
        "### Uncomment the following cells one by one and run each cell only one time in given order"
      ]
    },
    {
      "cell_type": "code",
      "metadata": {
        "id": "FVm8TTYx79Fr"
      },
      "source": [
        "# !wget http://nlp.stanford.edu/data/glove.6B.zip"
      ],
      "execution_count": 12,
      "outputs": []
    },
    {
      "cell_type": "code",
      "metadata": {
        "id": "97nf-TI98yWy"
      },
      "source": [
        "# !unzip glove.6B.zip"
      ],
      "execution_count": 21,
      "outputs": []
    },
    {
      "cell_type": "code",
      "metadata": {
        "id": "e3JzHlTUDwCL"
      },
      "source": [
        "# !mkdir glove.6B"
      ],
      "execution_count": 22,
      "outputs": []
    },
    {
      "cell_type": "code",
      "metadata": {
        "id": "fb3deGjpD5mY"
      },
      "source": [
        "# shutil.move('glove.6B.50d.txt', 'glove.6B')"
      ],
      "execution_count": 18,
      "outputs": []
    },
    {
      "cell_type": "code",
      "metadata": {
        "id": "ew5V7an_EBLv"
      },
      "source": [
        "# shutil.move('glove.6B.100d.txt', 'glove.6B')\n",
        "# shutil.move('glove.6B.200d.txt', 'glove.6B')\n",
        "# shutil.move('glove.6B.300d.txt', 'glove.6B')"
      ],
      "execution_count": 17,
      "outputs": []
    },
    {
      "cell_type": "code",
      "metadata": {
        "id": "weO_212w_hGI"
      },
      "source": [
        "# !wget http://www.cs.cmu.edu/afs/cs.cmu.edu/project/theo-20/www/data/news20.tar.gz"
      ],
      "execution_count": 11,
      "outputs": []
    },
    {
      "cell_type": "code",
      "metadata": {
        "id": "aBGaO7CYEOae"
      },
      "source": [
        "# !mkdir 20_newsgroup"
      ],
      "execution_count": 19,
      "outputs": []
    },
    {
      "cell_type": "code",
      "metadata": {
        "id": "lamLVkzY_2_1"
      },
      "source": [
        "# !tar -xvf  'news20.tar.gz' -C '20_newsgroup'"
      ],
      "execution_count": 10,
      "outputs": []
    },
    {
      "cell_type": "code",
      "metadata": {
        "id": "ZvANwOe-O11m"
      },
      "source": [
        ""
      ],
      "execution_count": null,
      "outputs": []
    },
    {
      "cell_type": "markdown",
      "metadata": {
        "id": "e8Q5F08pO2f6"
      },
      "source": [
        "## Importing Libraries"
      ]
    },
    {
      "cell_type": "code",
      "metadata": {
        "id": "jlp4jGDkCUY2"
      },
      "source": [
        "from __future__ import print_function\n",
        "import os\n",
        "import sys\n",
        "import numpy as np\n",
        "import tensorflow as tf\n",
        "from keras.preprocessing.text import Tokenizer\n",
        "from keras.preprocessing.sequence import pad_sequences\n",
        "from keras.utils import to_categorical\n",
        "from keras.layers import Dense, Input, GlobalMaxPooling1D, Dropout\n",
        "from keras.layers import Conv1D, MaxPooling1D, Embedding\n",
        "from keras.models import Model\n",
        "from keras.initializers import Constant\n",
        "from matplotlib import pyplot\n",
        "from keras import backend as K"
      ],
      "execution_count": 51,
      "outputs": []
    },
    {
      "cell_type": "markdown",
      "metadata": {
        "id": "GSIO3128O9NC"
      },
      "source": [
        "## Accuracy Metrics"
      ]
    },
    {
      "cell_type": "code",
      "metadata": {
        "id": "xxJTGB_wEilC"
      },
      "source": [
        "def recall_m(y_true, y_pred):\n",
        "        true_positives = K.sum(K.round(K.clip(y_true * y_pred, 0, 1)))\n",
        "        possible_positives = K.sum(K.round(K.clip(y_true, 0, 1)))\n",
        "        recall = true_positives / (possible_positives + K.epsilon())\n",
        "        return recall\n",
        "\n",
        "def precision_m(y_true, y_pred):\n",
        "        true_positives = K.sum(K.round(K.clip(y_true * y_pred, 0, 1)))\n",
        "        predicted_positives = K.sum(K.round(K.clip(y_pred, 0, 1)))\n",
        "        precision = true_positives / (predicted_positives + K.epsilon())\n",
        "        return precision\n",
        "\n",
        "def f1_m(y_true, y_pred):\n",
        "    precision = precision_m(y_true, y_pred)\n",
        "    recall = recall_m(y_true, y_pred)\n",
        "    return 2*((precision*recall)/(precision+recall+K.epsilon()))"
      ],
      "execution_count": 25,
      "outputs": []
    },
    {
      "cell_type": "markdown",
      "metadata": {
        "id": "uUp7Scd_PGox"
      },
      "source": [
        "## Loading Glove pretrained vectors"
      ]
    },
    {
      "cell_type": "code",
      "metadata": {
        "id": "typqOOWHEmLi",
        "outputId": "26136894-03b7-4999-95fe-173794ddc843",
        "colab": {
          "base_uri": "https://localhost:8080/"
        }
      },
      "source": [
        "GLOVE_DIR = os.path.join(BASE_DIR, 'glove.6B')\n",
        "TEXT_DATA_DIR = os.path.join(BASE_DIR, '20_newsgroup/20_newsgroup')\n",
        "MAX_SEQUENCE_LENGTH = 1000\n",
        "MAX_NUM_WORDS = 20000\n",
        "EMBEDDING_DIM = 100\n",
        "VALIDATION_SPLIT = 0.2\n",
        "\n",
        "# first, build index mapping words in the embeddings set\n",
        "# to their embedding vector\n",
        "\n",
        "print('Indexing word vectors.')\n",
        "\n",
        "embeddings_index = {}\n",
        "with open(os.path.join(GLOVE_DIR, 'glove.6B.100d.txt')) as f:\n",
        "    for line in f:\n",
        "        word, coefs = line.split(maxsplit=1)\n",
        "        coefs = np.fromstring(coefs, 'f', sep=' ')\n",
        "        embeddings_index[word] = coefs\n",
        "\n",
        "print('Found %s word vectors.' % len(embeddings_index))"
      ],
      "execution_count": 37,
      "outputs": [
        {
          "output_type": "stream",
          "text": [
            "Indexing word vectors.\n",
            "Found 400000 word vectors.\n"
          ],
          "name": "stdout"
        }
      ]
    },
    {
      "cell_type": "markdown",
      "metadata": {
        "id": "aYpNGwQCPNgV"
      },
      "source": [
        "## Processing text dataset"
      ]
    },
    {
      "cell_type": "code",
      "metadata": {
        "id": "atIwRSPtFPHc",
        "outputId": "5c672e49-08fc-4cc7-adf5-cd86fb6c1feb",
        "colab": {
          "base_uri": "https://localhost:8080/"
        }
      },
      "source": [
        "# second, prepare text samples and their labels\n",
        "print('Processing text dataset')\n",
        "\n",
        "texts = []  # list of text samples\n",
        "labels_index = {}  # dictionary mapping label name to numeric id\n",
        "index_to_label_dict = {}\n",
        "labels = []  # list of label ids\n",
        "for name in sorted(os.listdir(TEXT_DATA_DIR)):\n",
        "    path = os.path.join(TEXT_DATA_DIR, name)\n",
        "    if os.path.isdir(path):\n",
        "        label_id = len(labels_index)\n",
        "        labels_index[name] = label_id\n",
        "        index_to_label_dict[label_id] = name\n",
        "        for fname in sorted(os.listdir(path)):\n",
        "            if fname.isdigit():\n",
        "                fpath = os.path.join(path, fname)\n",
        "                args = {} if sys.version_info < (3,) else {'encoding': 'latin-1'}\n",
        "                with open(fpath, **args) as f:\n",
        "                    t = f.read()\n",
        "                    i = t.find('\\n\\n')  # skip header\n",
        "                    if 0 < i:\n",
        "                        t = t[i:]\n",
        "                    texts.append(t)\n",
        "                labels.append(label_id)\n",
        "\n",
        "print('Found %s texts.' % len(texts))\n",
        "#print(texts.shape)\n",
        "print(labels[0])"
      ],
      "execution_count": 62,
      "outputs": [
        {
          "output_type": "stream",
          "text": [
            "Processing text dataset\n",
            "Found 19997 texts.\n",
            "0\n"
          ],
          "name": "stdout"
        }
      ]
    },
    {
      "cell_type": "markdown",
      "metadata": {
        "id": "0IeEU_AYPTO_"
      },
      "source": [
        "## Tokenizing  "
      ]
    },
    {
      "cell_type": "code",
      "metadata": {
        "id": "pqtQ6CJGFTzC",
        "outputId": "1806544c-03e5-40e9-f1ce-99fb8cf6c0bc",
        "colab": {
          "base_uri": "https://localhost:8080/"
        }
      },
      "source": [
        "# finally, vectorize the text samples into a 2D integer tensor\n",
        "tokenizer = Tokenizer(num_words=MAX_NUM_WORDS)\n",
        "tokenizer.fit_on_texts(texts)\n",
        "sequences = tokenizer.texts_to_sequences(texts)\n",
        "\n",
        "word_index = tokenizer.word_index\n",
        "print('Found %s unique tokens.' % len(word_index))\n",
        "\n",
        "data = pad_sequences(sequences, maxlen=MAX_SEQUENCE_LENGTH)\n",
        "\n",
        "labels = to_categorical(np.asarray(labels))\n",
        "print('Shape of data tensor:', data.shape)\n",
        "print('Shape of label tensor:', labels.shape)\n",
        "\n",
        "# split the data into a training set and a validation set\n",
        "indices = np.arange(data.shape[0])\n",
        "np.random.shuffle(indices)\n",
        "data = data[indices]\n",
        "labels = labels[indices]\n",
        "num_validation_samples = int(VALIDATION_SPLIT * data.shape[0])\n",
        "\n",
        "x_train = data[:-num_validation_samples]\n",
        "y_train = labels[:-num_validation_samples]\n",
        "x_val = data[-num_validation_samples:]\n",
        "y_val = labels[-num_validation_samples:]"
      ],
      "execution_count": 39,
      "outputs": [
        {
          "output_type": "stream",
          "text": [
            "Found 174074 unique tokens.\n",
            "Shape of data tensor: (19997, 1000)\n",
            "Shape of label tensor: (19997, 20)\n"
          ],
          "name": "stdout"
        }
      ]
    },
    {
      "cell_type": "markdown",
      "metadata": {
        "id": "dyCme8YaParj"
      },
      "source": [
        "## Preparing embedding matrix"
      ]
    },
    {
      "cell_type": "code",
      "metadata": {
        "id": "v3sYuqIxFzay",
        "outputId": "b24bbb9c-1813-40ae-b1cb-4f79c6e2ae1c",
        "colab": {
          "base_uri": "https://localhost:8080/"
        }
      },
      "source": [
        "print('Preparing embedding matrix.')\n",
        "\n",
        "# prepare embedding matrix\n",
        "num_words = min(MAX_NUM_WORDS, len(word_index) + 1)\n",
        "embedding_matrix = np.zeros((num_words, EMBEDDING_DIM))\n",
        "for word, i in word_index.items():\n",
        "    if i >= MAX_NUM_WORDS:\n",
        "        continue\n",
        "    embedding_vector = embeddings_index.get(word)\n",
        "    if embedding_vector is not None:\n",
        "        # words not found in embedding index will be all-zeros.\n",
        "        embedding_matrix[i] = embedding_vector\n",
        "\n",
        "# load pre-trained word embeddings into an Embedding layer\n",
        "# note that we set trainable = False so as to keep the embeddings fixed\n",
        "embedding_layer = Embedding(num_words,\n",
        "                            EMBEDDING_DIM,\n",
        "                            embeddings_initializer=Constant(embedding_matrix),\n",
        "                            input_length=MAX_SEQUENCE_LENGTH,\n",
        "                            trainable=False)\n",
        "\n",
        "print(\"done\")"
      ],
      "execution_count": 40,
      "outputs": [
        {
          "output_type": "stream",
          "text": [
            "Preparing embedding matrix.\n",
            "done\n"
          ],
          "name": "stdout"
        }
      ]
    },
    {
      "cell_type": "markdown",
      "metadata": {
        "id": "26XLEfd2Rsfj"
      },
      "source": [
        "## Training model"
      ]
    },
    {
      "cell_type": "code",
      "metadata": {
        "id": "GyFSi0olF7tC",
        "outputId": "1bc99e4e-e751-455f-c9e7-811246654e58",
        "colab": {
          "base_uri": "https://localhost:8080/"
        }
      },
      "source": [
        "print('Training model.')\n",
        "\n",
        "# train a 1D convnet with global maxpooling\n",
        "sequence_input = Input(shape=(MAX_SEQUENCE_LENGTH,), dtype='int32')\n",
        "embedded_sequences = embedding_layer(sequence_input)\n",
        "x = Conv1D(128, 5, activation='relu')(embedded_sequences)\n",
        "x = Dropout(0.2)(x)\n",
        "x = MaxPooling1D(5)(x)\n",
        "x = Conv1D(128, 5, activation='relu')(x)\n",
        "x = Dropout(0.3)(x)\n",
        "x = MaxPooling1D(5)(x)\n",
        "x = Conv1D(128, 5, activation='relu')(x)\n",
        "x = GlobalMaxPooling1D()(x)\n",
        "x = Dense(128, activation='relu')(x)\n",
        "preds = Dense(len(labels_index), activation='softmax')(x)\n",
        "\n",
        "model = Model(sequence_input, preds)\n",
        "model.compile(loss='categorical_crossentropy',\n",
        "              optimizer='rmsprop',\n",
        "              metrics=['acc', f1_m, precision_m, recall_m])\n",
        "\n",
        "history = model.fit(x_train, y_train,\n",
        "          batch_size=128,\n",
        "          epochs=15,\n",
        "          validation_data=(x_val, y_val))"
      ],
      "execution_count": 41,
      "outputs": [
        {
          "output_type": "stream",
          "text": [
            "Training model.\n",
            "Epoch 1/15\n",
            "125/125 [==============================] - 10s 80ms/step - loss: 2.4553 - acc: 0.1985 - f1_m: 0.0601 - precision_m: 0.3894 - recall_m: 0.0338 - val_loss: 1.9905 - val_acc: 0.3011 - val_f1_m: 0.1500 - val_precision_m: 0.6436 - val_recall_m: 0.0855\n",
            "Epoch 2/15\n",
            "125/125 [==============================] - 9s 75ms/step - loss: 1.5911 - acc: 0.4512 - f1_m: 0.3542 - precision_m: 0.6932 - recall_m: 0.2420 - val_loss: 1.4166 - val_acc: 0.5166 - val_f1_m: 0.3288 - val_precision_m: 0.8330 - val_recall_m: 0.2071\n",
            "Epoch 3/15\n",
            "125/125 [==============================] - 9s 75ms/step - loss: 1.2569 - acc: 0.5690 - f1_m: 0.5221 - precision_m: 0.7555 - recall_m: 0.4004 - val_loss: 1.1759 - val_acc: 0.6219 - val_f1_m: 0.5115 - val_precision_m: 0.8469 - val_recall_m: 0.3680\n",
            "Epoch 4/15\n",
            "125/125 [==============================] - 9s 75ms/step - loss: 1.0504 - acc: 0.6431 - f1_m: 0.6200 - precision_m: 0.7952 - recall_m: 0.5094 - val_loss: 1.0467 - val_acc: 0.6614 - val_f1_m: 0.5865 - val_precision_m: 0.8603 - val_recall_m: 0.4468\n",
            "Epoch 5/15\n",
            "125/125 [==============================] - 9s 75ms/step - loss: 0.9306 - acc: 0.6878 - f1_m: 0.6733 - precision_m: 0.8162 - recall_m: 0.5739 - val_loss: 0.9575 - val_acc: 0.6947 - val_f1_m: 0.6365 - val_precision_m: 0.8814 - val_recall_m: 0.5017\n",
            "Epoch 6/15\n",
            "125/125 [==============================] - 9s 75ms/step - loss: 0.8178 - acc: 0.7283 - f1_m: 0.7204 - precision_m: 0.8406 - recall_m: 0.6311 - val_loss: 0.8811 - val_acc: 0.7182 - val_f1_m: 0.6774 - val_precision_m: 0.8603 - val_recall_m: 0.5608\n",
            "Epoch 7/15\n",
            "125/125 [==============================] - 9s 75ms/step - loss: 0.7376 - acc: 0.7528 - f1_m: 0.7481 - precision_m: 0.8497 - recall_m: 0.6689 - val_loss: 0.8632 - val_acc: 0.7054 - val_f1_m: 0.6978 - val_precision_m: 0.8275 - val_recall_m: 0.6042\n",
            "Epoch 8/15\n",
            "125/125 [==============================] - 9s 75ms/step - loss: 0.6568 - acc: 0.7808 - f1_m: 0.7786 - precision_m: 0.8620 - recall_m: 0.7106 - val_loss: 0.8384 - val_acc: 0.7267 - val_f1_m: 0.7030 - val_precision_m: 0.8511 - val_recall_m: 0.6000\n",
            "Epoch 9/15\n",
            "125/125 [==============================] - 9s 74ms/step - loss: 0.5903 - acc: 0.7997 - f1_m: 0.7997 - precision_m: 0.8744 - recall_m: 0.7374 - val_loss: 0.7757 - val_acc: 0.7429 - val_f1_m: 0.7310 - val_precision_m: 0.8622 - val_recall_m: 0.6352\n",
            "Epoch 10/15\n",
            "125/125 [==============================] - 9s 75ms/step - loss: 0.5387 - acc: 0.8162 - f1_m: 0.8163 - precision_m: 0.8794 - recall_m: 0.7622 - val_loss: 0.8115 - val_acc: 0.7299 - val_f1_m: 0.7256 - val_precision_m: 0.8304 - val_recall_m: 0.6455\n",
            "Epoch 11/15\n",
            "125/125 [==============================] - 9s 75ms/step - loss: 0.4915 - acc: 0.8327 - f1_m: 0.8347 - precision_m: 0.8881 - recall_m: 0.7877 - val_loss: 0.8088 - val_acc: 0.7352 - val_f1_m: 0.7282 - val_precision_m: 0.8388 - val_recall_m: 0.6447\n",
            "Epoch 12/15\n",
            "125/125 [==============================] - 9s 75ms/step - loss: 0.4426 - acc: 0.8448 - f1_m: 0.8451 - precision_m: 0.8920 - recall_m: 0.8033 - val_loss: 0.8729 - val_acc: 0.7377 - val_f1_m: 0.7317 - val_precision_m: 0.8384 - val_recall_m: 0.6494\n",
            "Epoch 13/15\n",
            "125/125 [==============================] - 9s 75ms/step - loss: 0.4131 - acc: 0.8564 - f1_m: 0.8590 - precision_m: 0.9004 - recall_m: 0.8214 - val_loss: 0.8730 - val_acc: 0.7274 - val_f1_m: 0.7249 - val_precision_m: 0.8022 - val_recall_m: 0.6618\n",
            "Epoch 14/15\n",
            "125/125 [==============================] - 9s 75ms/step - loss: 0.3708 - acc: 0.8707 - f1_m: 0.8737 - precision_m: 0.9100 - recall_m: 0.8404 - val_loss: 0.8770 - val_acc: 0.7259 - val_f1_m: 0.7309 - val_precision_m: 0.7950 - val_recall_m: 0.6768\n",
            "Epoch 15/15\n",
            "125/125 [==============================] - 9s 75ms/step - loss: 0.3565 - acc: 0.8757 - f1_m: 0.8757 - precision_m: 0.9082 - recall_m: 0.8457 - val_loss: 0.7935 - val_acc: 0.7527 - val_f1_m: 0.7576 - val_precision_m: 0.8229 - val_recall_m: 0.7027\n"
          ],
          "name": "stdout"
        }
      ]
    },
    {
      "cell_type": "code",
      "metadata": {
        "id": "IJpss9-OGI1y",
        "outputId": "df293a5a-834b-493d-b39b-fb226cd8e4b5",
        "colab": {
          "base_uri": "https://localhost:8080/",
          "height": 281
        }
      },
      "source": [
        "# plot metrics\n",
        "pyplot.plot(history.history[\"f1_m\"],  label=\"f1 score\")\n",
        "pyplot.plot(history.history[\"precision_m\"], label=\"precision\")\n",
        "pyplot.plot(history.history[\"recall_m\"], label=\"recall\")\n",
        "pyplot.plot(history.history['acc'] , label=\"accuracy\")\n",
        "pyplot.title('Evaluation stats')\n",
        "pyplot.legend(loc=\"upper left\")\n",
        "pyplot.show()"
      ],
      "execution_count": 42,
      "outputs": [
        {
          "output_type": "display_data",
          "data": {
            "image/png": "[encoded data removed]",
            "text/plain": [
              "<Figure size 432x288 with 1 Axes>"
            ]
          },
          "metadata": {
            "tags": [],
            "needs_background": "light"
          }
        }
      ]
    },
    {
      "cell_type": "markdown",
      "metadata": {
        "id": "9Kj3y5WURvwT"
      },
      "source": [
        "## Saving Model"
      ]
    },
    {
      "cell_type": "code",
      "metadata": {
        "id": "KOydGvdHGxPZ",
        "outputId": "94106728-0032-4fe3-f2aa-e27eb8b6c38f",
        "colab": {
          "base_uri": "https://localhost:8080/"
        }
      },
      "source": [
        "# serialize model to JSON\n",
        "model_json = model.to_json()\n",
        "with open(\"model.json\", \"w\") as json_file:\n",
        "    json_file.write(model_json)\n",
        "# serialize weights to HDF5\n",
        "model.save_weights(\"model.h5\")\n",
        "print(\"Saved model to disk\")"
      ],
      "execution_count": 43,
      "outputs": [
        {
          "output_type": "stream",
          "text": [
            "Saved model to disk\n"
          ],
          "name": "stdout"
        }
      ]
    },
    {
      "cell_type": "code",
      "metadata": {
        "id": "N0VmIEmyHyiz",
        "outputId": "422174fa-ae13-4637-9c14-01b1627f7545",
        "colab": {
          "base_uri": "https://localhost:8080/",
          "height": 35
        }
      },
      "source": [
        "pwd"
      ],
      "execution_count": 46,
      "outputs": [
        {
          "output_type": "execute_result",
          "data": {
            "application/vnd.google.colaboratory.intrinsic+json": {
              "type": "string"
            },
            "text/plain": [
              "'/content/drive/My Drive/Deep_Learning /News_Classification'"
            ]
          },
          "metadata": {
            "tags": []
          },
          "execution_count": 46
        }
      ]
    },
    {
      "cell_type": "code",
      "metadata": {
        "id": "rLn4Kk2cHn86",
        "outputId": "57fc5193-df3b-4b2c-a835-9268d3e84d01",
        "colab": {
          "base_uri": "https://localhost:8080/"
        }
      },
      "source": [
        "ls"
      ],
      "execution_count": 45,
      "outputs": [
        {
          "output_type": "stream",
          "text": [
            "\u001b[0m\u001b[01;34m20_newsgroup\u001b[0m/  glove.6B.zip  model.json     newsclassification.ipynb\n",
            "\u001b[01;34mglove.6B\u001b[0m/      model.h5      news20.tar.gz\n"
          ],
          "name": "stdout"
        }
      ]
    },
    {
      "cell_type": "markdown",
      "metadata": {
        "id": "JSd4KuueTG2I"
      },
      "source": [
        "## Loading Saved model"
      ]
    },
    {
      "cell_type": "code",
      "metadata": {
        "id": "FYkyk-g8Iclo"
      },
      "source": [
        "json_file = open('model.json', 'r')\n",
        "loaded_model_json = json_file.read()\n",
        "json_file.close()"
      ],
      "execution_count": 49,
      "outputs": []
    },
    {
      "cell_type": "code",
      "metadata": {
        "id": "04UJfoO-G1Ap"
      },
      "source": [
        "loaded_model = tf.keras.models.model_from_json(loaded_model_json, custom_objects={\"tf\":tf})"
      ],
      "execution_count": 53,
      "outputs": []
    },
    {
      "cell_type": "code",
      "metadata": {
        "id": "C4bZ9X2qIh4-",
        "outputId": "8a587764-6d34-4a5f-b6bd-3470450a1bdd",
        "colab": {
          "base_uri": "https://localhost:8080/"
        }
      },
      "source": [
        "# load weights into new model\n",
        "loaded_model.load_weights(\"model.h5\")\n",
        "print(\"Loaded model from disk\")"
      ],
      "execution_count": 54,
      "outputs": [
        {
          "output_type": "stream",
          "text": [
            "Loaded model from disk\n"
          ],
          "name": "stdout"
        }
      ]
    },
    {
      "cell_type": "code",
      "metadata": {
        "id": "JV9Rgz08JbjX"
      },
      "source": [
        "loaded_model.compile(loss='categorical_crossentropy', optimizer='rmsprop', metrics=['accuracy'])"
      ],
      "execution_count": 56,
      "outputs": []
    },
    {
      "cell_type": "markdown",
      "metadata": {
        "id": "IJC2N7UiTLpl"
      },
      "source": [
        "## Predicting on new news text"
      ]
    },
    {
      "cell_type": "code",
      "metadata": {
        "id": "G5GoJ2X5JHhp"
      },
      "source": [
        "tokenizer = Tokenizer(num_words=MAX_NUM_WORDS)\n",
        "tokenizer.fit_on_texts(texts)\n",
        "sequences = tokenizer.texts_to_sequences(texts)"
      ],
      "execution_count": 58,
      "outputs": []
    },
    {
      "cell_type": "code",
      "metadata": {
        "id": "fXZq21N5JhRg"
      },
      "source": [
        "test_texts = [\"First of all as far as I know, only male homosexuality is explicitly mentioned in the bibles, so you're off the hook there, I think. In \\\n",
        "              any event, there are *plenty* of people in many denominations who \\\n",
        "              do not consider a person's sexual identification of gay/lesbian/bisexual \\\n",
        "              as an 'immoral lifestyle choice'\",\n",
        "     \n",
        "             \"The Washington Post said that the shooter never should have had a gun if \\\n",
        "             the gun laws worked. Kinnunen was a well-known troublemaker, had been declared \\\n",
        "             mentally incompetent to stand trial in Oklahoma. He had been convicted of a \\\n",
        "             number of felonies. Nonetheless, The Washington Post blamed Texas gun laws for \\\n",
        "             the tragedy, forgetting that Kinnunen could not get a gun legally in any U.S. \\\n",
        "             jurisdiction. So did some presidential candidates, including Joe Biden\"\n",
        "             ]\n",
        "test_sequences = tokenizer.texts_to_sequences(test_texts)\n",
        "test_data = pad_sequences(test_sequences, maxlen=MAX_SEQUENCE_LENGTH)"
      ],
      "execution_count": 59,
      "outputs": []
    },
    {
      "cell_type": "code",
      "metadata": {
        "id": "AglX3uchJpfI",
        "outputId": "1695479a-e25f-4ce0-e936-ccfa807f90d6",
        "colab": {
          "base_uri": "https://localhost:8080/"
        }
      },
      "source": [
        "nn_output = loaded_model.predict(test_data)\n",
        "print(nn_output)"
      ],
      "execution_count": 60,
      "outputs": [
        {
          "output_type": "stream",
          "text": [
            "[[6.1063219e-02 5.7951482e-05 1.0222716e-05 3.0973242e-06 2.4177272e-05\n",
            "  1.6622842e-04 7.1790411e-05 2.1657646e-04 6.9167421e-05 3.0214125e-05\n",
            "  3.5957628e-06 7.1229013e-05 2.8582149e-06 1.3277954e-03 1.7203348e-03\n",
            "  7.4266422e-01 2.9028794e-03 1.7189523e-03 3.6049017e-03 1.8427047e-01]\n",
            " [1.5374733e-04 2.3685111e-08 4.3911101e-09 1.3235986e-08 2.8486380e-07\n",
            "  1.4051847e-08 5.8174282e-06 7.4598094e-04 2.5187078e-04 3.1346509e-08\n",
            "  1.1306389e-07 1.9340243e-04 7.5548942e-06 1.3296406e-05 2.7324582e-05\n",
            "  5.3529197e-07 9.7339147e-01 1.8435380e-04 1.2375455e-02 1.2648696e-02]]\n"
          ],
          "name": "stdout"
        }
      ]
    },
    {
      "cell_type": "code",
      "metadata": {
        "id": "MAw9kZsDJtYo",
        "outputId": "6c4dd694-9177-4d73-d6d2-b02407621752",
        "colab": {
          "base_uri": "https://localhost:8080/"
        }
      },
      "source": [
        "i=0\n",
        "for idx in np.argmax(nn_output, axis=1):\n",
        "    print(\"Category: \", index_to_label_dict[idx])\n",
        "    print(\"text: \" , test_texts[i])\n",
        "    print(\"=====================================\")\n",
        "    i = i + 1"
      ],
      "execution_count": 63,
      "outputs": [
        {
          "output_type": "stream",
          "text": [
            "Category:  soc.religion.christian\n",
            "text:  First of all as far as I know, only male homosexuality is explicitly mentioned in the bibles, so you're off the hook there, I think. In               any event, there are *plenty* of people in many denominations who               do not consider a person's sexual identification of gay/lesbian/bisexual               as an 'immoral lifestyle choice'\n",
            "=====================================\n",
            "Category:  talk.politics.guns\n",
            "text:  The Washington Post said that the shooter never should have had a gun if              the gun laws worked. Kinnunen was a well-known troublemaker, had been declared              mentally incompetent to stand trial in Oklahoma. He had been convicted of a              number of felonies. Nonetheless, The Washington Post blamed Texas gun laws for              the tragedy, forgetting that Kinnunen could not get a gun legally in any U.S.              jurisdiction. So did some presidential candidates, including Joe Biden\n",
            "=====================================\n"
          ],
          "name": "stdout"
        }
      ]
    },
    {
      "cell_type": "code",
      "metadata": {
        "id": "Nae42uRXJxnQ"
      },
      "source": [
        ""
      ],
      "execution_count": null,
      "outputs": []
    }
  ]
}