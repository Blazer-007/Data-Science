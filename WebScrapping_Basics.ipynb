{
  "nbformat": 4,
  "nbformat_minor": 0,
  "metadata": {
    "colab": {
      "name": "WebScrapping_Basics.ipynb",
      "provenance": [],
      "include_colab_link": true
    },
    "kernelspec": {
      "name": "python3",
      "display_name": "Python 3"
    }
  },
  "cells": [
    {
      "cell_type": "markdown",
      "metadata": {
        "id": "view-in-github",
        "colab_type": "text"
      },
      "source": [
        "<a href=\"https://colab.research.google.com/github/Blazer-007/Data-Science/blob/master/WebScrapping_Basics.ipynb\" target=\"_parent\"><img src=\"https://colab.research.google.com/assets/colab-badge.svg\" alt=\"Open In Colab\"/></a>"
      ]
    },
    {
      "cell_type": "markdown",
      "metadata": {
        "id": "feoGbMqVcaHI",
        "colab_type": "text"
      },
      "source": [
        "**1.Importing Libraries**"
      ]
    },
    {
      "cell_type": "code",
      "metadata": {
        "id": "IqZvNeLuF3bo",
        "colab_type": "code",
        "colab": {}
      },
      "source": [
        "import bs4"
      ],
      "execution_count": 0,
      "outputs": []
    },
    {
      "cell_type": "code",
      "metadata": {
        "id": "JdFBBRcGGAzO",
        "colab_type": "code",
        "colab": {}
      },
      "source": [
        "from urllib.request import urlopen"
      ],
      "execution_count": 0,
      "outputs": []
    },
    {
      "cell_type": "code",
      "metadata": {
        "id": "CPXLfRcrGIsQ",
        "colab_type": "code",
        "colab": {}
      },
      "source": [
        "android_url = \"https://en.wikipedia.org/wiki/Android_version_history\""
      ],
      "execution_count": 0,
      "outputs": []
    },
    {
      "cell_type": "code",
      "metadata": {
        "id": "6ChBoES9GMj7",
        "colab_type": "code",
        "colab": {
          "base_uri": "https://localhost:8080/",
          "height": 34
        },
        "outputId": "33a8dc59-2d31-4362-fc3a-4a7d25860693"
      },
      "source": [
        "android_data = urlopen(android_url)\n",
        "print(type(android_data))"
      ],
      "execution_count": 14,
      "outputs": [
        {
          "output_type": "stream",
          "text": [
            "<class 'http.client.HTTPResponse'>\n"
          ],
          "name": "stdout"
        }
      ]
    },
    {
      "cell_type": "code",
      "metadata": {
        "id": "c9tbxoJxGQ3b",
        "colab_type": "code",
        "colab": {}
      },
      "source": [
        "android_html = android_data.read()\n",
        "# print(android_html)\n",
        "android_data.close()"
      ],
      "execution_count": 0,
      "outputs": []
    },
    {
      "cell_type": "markdown",
      "metadata": {
        "id": "BkXr2IyPcnhI",
        "colab_type": "text"
      },
      "source": [
        "**2. Using Beauiful Soup**"
      ]
    },
    {
      "cell_type": "code",
      "metadata": {
        "id": "YFvpVKuTHhfy",
        "colab_type": "code",
        "colab": {}
      },
      "source": [
        "from bs4 import BeautifulSoup as soup"
      ],
      "execution_count": 0,
      "outputs": []
    },
    {
      "cell_type": "code",
      "metadata": {
        "id": "mSAq6ytUIpZb",
        "colab_type": "code",
        "colab": {}
      },
      "source": [
        "android_soup = soup(android_html,'html.parser')\n",
        "# print(android_soup)"
      ],
      "execution_count": 0,
      "outputs": []
    },
    {
      "cell_type": "code",
      "metadata": {
        "id": "3i2wGRUJI2Jj",
        "colab_type": "code",
        "colab": {
          "base_uri": "https://localhost:8080/",
          "height": 34
        },
        "outputId": "1c218faf-e530-4a33-fa3f-daf38829d0e7"
      },
      "source": [
        "print(type(android_soup))"
      ],
      "execution_count": 21,
      "outputs": [
        {
          "output_type": "stream",
          "text": [
            "<class 'bs4.BeautifulSoup'>\n"
          ],
          "name": "stdout"
        }
      ]
    },
    {
      "cell_type": "code",
      "metadata": {
        "id": "awa7fLFLJEFN",
        "colab_type": "code",
        "colab": {
          "base_uri": "https://localhost:8080/",
          "height": 34
        },
        "outputId": "837245d6-1fa8-4c30-a081-46a0dd724ad7"
      },
      "source": [
        "android_soup.findAll('h1',{})"
      ],
      "execution_count": 20,
      "outputs": [
        {
          "output_type": "execute_result",
          "data": {
            "text/plain": [
              "[<h1 class=\"firstHeading\" id=\"firstHeading\" lang=\"en\">Android version history</h1>]"
            ]
          },
          "metadata": {
            "tags": []
          },
          "execution_count": 20
        }
      ]
    },
    {
      "cell_type": "code",
      "metadata": {
        "id": "YK--XDiuJH05",
        "colab_type": "code",
        "colab": {
          "base_uri": "https://localhost:8080/",
          "height": 34
        },
        "outputId": "cf10e022-1c84-4f19-fa0b-a5a9804cb6bc"
      },
      "source": [
        "tables = android_soup.findAll('table',{'class':'wikitable'})\n",
        "print(len(tables))"
      ],
      "execution_count": 22,
      "outputs": [
        {
          "output_type": "stream",
          "text": [
            "30\n"
          ],
          "name": "stdout"
        }
      ]
    },
    {
      "cell_type": "code",
      "metadata": {
        "id": "q7tL14qoKK4R",
        "colab_type": "code",
        "colab": {
          "base_uri": "https://localhost:8080/",
          "height": 1000
        },
        "outputId": "4b411c6b-6fa6-4fa7-8dc3-e72786edfe40"
      },
      "source": [
        "android_table = tables[0]\n",
        "print(android_table)"
      ],
      "execution_count": 23,
      "outputs": [
        {
          "output_type": "stream",
          "text": [
            "<table class=\"wikitable\">\n",
            "<tbody><tr>\n",
            "<th>Code name\n",
            "</th>\n",
            "<th>Version numbers\n",
            "</th>\n",
            "<th>Initial release date\n",
            "</th>\n",
            "<th>API level\n",
            "</th>\n",
            "<th>References\n",
            "</th></tr>\n",
            "<tr>\n",
            "<td rowspan=\"2\">No codename\n",
            "</td>\n",
            "<td>1.0\n",
            "</td>\n",
            "<td>September 23, 2008\n",
            "</td>\n",
            "<td>1\n",
            "</td>\n",
            "<td><sup class=\"reference\" id=\"cite_ref-unofficial_and_official_codenames_9-1\"><a href=\"#cite_note-unofficial_and_official_codenames-9\">[9]</a></sup>\n",
            "</td></tr>\n",
            "<tr>\n",
            "<td>1.1\n",
            "</td>\n",
            "<td>February 9, 2009\n",
            "</td>\n",
            "<td>2\n",
            "</td>\n",
            "<td><sup class=\"reference\" id=\"cite_ref-unofficial_and_official_codenames_9-2\"><a href=\"#cite_note-unofficial_and_official_codenames-9\">[9]</a></sup><sup class=\"reference\" id=\"cite_ref-11\"><a href=\"#cite_note-11\">[11]</a></sup>\n",
            "</td></tr>\n",
            "<tr>\n",
            "<td><a href=\"/wiki/Android_Cupcake\" title=\"Android Cupcake\">Cupcake</a>\n",
            "</td>\n",
            "<td>1.5\n",
            "</td>\n",
            "<td>April 27, 2009\n",
            "</td>\n",
            "<td>3\n",
            "</td>\n",
            "<td>\n",
            "</td></tr>\n",
            "<tr>\n",
            "<td><a href=\"/wiki/Android_Donut\" title=\"Android Donut\">Donut</a>\n",
            "</td>\n",
            "<td>1.6\n",
            "</td>\n",
            "<td>September 15, 2009\n",
            "</td>\n",
            "<td>4\n",
            "</td>\n",
            "<td><sup class=\"reference\" id=\"cite_ref-12\"><a href=\"#cite_note-12\">[12]</a></sup>\n",
            "</td></tr>\n",
            "<tr>\n",
            "<td><a href=\"/wiki/Android_Eclair\" title=\"Android Eclair\">Eclair</a>\n",
            "</td>\n",
            "<td>2.0 – 2.1\n",
            "</td>\n",
            "<td>October 26, 2009\n",
            "</td>\n",
            "<td>5 – 7\n",
            "</td>\n",
            "<td><sup class=\"reference\" id=\"cite_ref-13\"><a href=\"#cite_note-13\">[13]</a></sup>\n",
            "</td></tr>\n",
            "<tr>\n",
            "<td><a href=\"/wiki/Android_Froyo\" title=\"Android Froyo\">Froyo</a>\n",
            "</td>\n",
            "<td>2.2 – 2.2.3\n",
            "</td>\n",
            "<td>May 20, 2010\n",
            "</td>\n",
            "<td>8\n",
            "</td>\n",
            "<td><sup class=\"reference\" id=\"cite_ref-14\"><a href=\"#cite_note-14\">[14]</a></sup>\n",
            "</td></tr>\n",
            "<tr>\n",
            "<td><a href=\"/wiki/Android_Gingerbread\" title=\"Android Gingerbread\">Gingerbread</a>\n",
            "</td>\n",
            "<td>2.3 – 2.3.7\n",
            "</td>\n",
            "<td>December 6, 2010\n",
            "</td>\n",
            "<td>9 – 10\n",
            "</td>\n",
            "<td><sup class=\"reference\" id=\"cite_ref-15\"><a href=\"#cite_note-15\">[15]</a></sup>\n",
            "</td></tr>\n",
            "<tr>\n",
            "<td><a href=\"/wiki/Android_Honeycomb\" title=\"Android Honeycomb\">Honeycomb</a>\n",
            "</td>\n",
            "<td>3.0 – 3.2.6\n",
            "</td>\n",
            "<td>February 22, 2011\n",
            "</td>\n",
            "<td>11 – 13\n",
            "</td>\n",
            "<td><sup class=\"reference\" id=\"cite_ref-16\"><a href=\"#cite_note-16\">[16]</a></sup>\n",
            "</td></tr>\n",
            "<tr>\n",
            "<td><a href=\"/wiki/Android_Ice_Cream_Sandwich\" title=\"Android Ice Cream Sandwich\">Ice Cream Sandwich</a>\n",
            "</td>\n",
            "<td>4.0 – 4.0.4\n",
            "</td>\n",
            "<td>October 18, 2011\n",
            "</td>\n",
            "<td>14 – 15\n",
            "</td>\n",
            "<td><sup class=\"reference\" id=\"cite_ref-17\"><a href=\"#cite_note-17\">[17]</a></sup>\n",
            "</td></tr>\n",
            "<tr>\n",
            "<td><a href=\"/wiki/Android_Jelly_Bean\" title=\"Android Jelly Bean\">Jelly Bean</a>\n",
            "</td>\n",
            "<td>4.1 – 4.3.1\n",
            "</td>\n",
            "<td>July 9, 2012\n",
            "</td>\n",
            "<td>16 – 18\n",
            "</td>\n",
            "<td><sup class=\"reference\" id=\"cite_ref-18\"><a href=\"#cite_note-18\">[18]</a></sup>\n",
            "</td></tr>\n",
            "<tr>\n",
            "<td><a href=\"/wiki/Android_KitKat\" title=\"Android KitKat\">KitKat</a>\n",
            "</td>\n",
            "<td>4.4 – 4.4.4\n",
            "</td>\n",
            "<td>October 31, 2013\n",
            "</td>\n",
            "<td>19 – 20\n",
            "</td>\n",
            "<td><sup class=\"reference\" id=\"cite_ref-19\"><a href=\"#cite_note-19\">[19]</a></sup>\n",
            "</td></tr>\n",
            "<tr>\n",
            "<td><a href=\"/wiki/Android_Lollipop\" title=\"Android Lollipop\">Lollipop</a>\n",
            "</td>\n",
            "<td>5.0 – 5.1.1\n",
            "</td>\n",
            "<td>November 12, 2014\n",
            "</td>\n",
            "<td>21 – 22\n",
            "</td>\n",
            "<td><sup class=\"reference\" id=\"cite_ref-20\"><a href=\"#cite_note-20\">[20]</a></sup>\n",
            "</td></tr>\n",
            "<tr>\n",
            "<td><a href=\"/wiki/Android_Marshmallow\" title=\"Android Marshmallow\">Marshmallow</a>\n",
            "</td>\n",
            "<td>6.0 – 6.0.1\n",
            "</td>\n",
            "<td>October 5, 2015\n",
            "</td>\n",
            "<td>23\n",
            "</td>\n",
            "<td><sup class=\"reference\" id=\"cite_ref-21\"><a href=\"#cite_note-21\">[21]</a></sup>\n",
            "</td></tr>\n",
            "<tr>\n",
            "<td rowspan=\"2\"><a href=\"/wiki/Android_Nougat\" title=\"Android Nougat\">Nougat</a>\n",
            "</td>\n",
            "<td>7.0\n",
            "</td>\n",
            "<td>August 22, 2016\n",
            "</td>\n",
            "<td>24\n",
            "</td>\n",
            "<td><sup class=\"reference\" id=\"cite_ref-22\"><a href=\"#cite_note-22\">[22]</a></sup>\n",
            "</td></tr>\n",
            "<tr>\n",
            "<td>7.1.0 – 7.1.2\n",
            "</td>\n",
            "<td>October 4, 2016\n",
            "</td>\n",
            "<td>25\n",
            "</td>\n",
            "<td><sup class=\"reference\" id=\"cite_ref-23\"><a href=\"#cite_note-23\">[23]</a></sup><sup class=\"reference\" id=\"cite_ref-24\"><a href=\"#cite_note-24\">[24]</a></sup><sup class=\"reference\" id=\"cite_ref-25\"><a href=\"#cite_note-25\">[25]</a></sup>\n",
            "</td></tr>\n",
            "<tr>\n",
            "<td rowspan=\"2\"><a href=\"/wiki/Android_Oreo\" title=\"Android Oreo\">Oreo</a>\n",
            "</td>\n",
            "<td>8.0\n",
            "</td>\n",
            "<td>August 21, 2017\n",
            "</td>\n",
            "<td>26\n",
            "</td>\n",
            "<td><sup class=\"reference\" id=\"cite_ref-26\"><a href=\"#cite_note-26\">[26]</a></sup>\n",
            "</td></tr>\n",
            "<tr>\n",
            "<td>8.1\n",
            "</td>\n",
            "<td>December 5, 2017\n",
            "</td>\n",
            "<td>27\n",
            "</td>\n",
            "<td>\n",
            "</td></tr>\n",
            "<tr>\n",
            "<td><a href=\"/wiki/Android_Pie\" title=\"Android Pie\">Pie</a>\n",
            "</td>\n",
            "<td>9.0\n",
            "</td>\n",
            "<td>August 6, 2018\n",
            "</td>\n",
            "<td>28\n",
            "</td>\n",
            "<td><sup class=\"reference\" id=\"cite_ref-27\"><a href=\"#cite_note-27\">[27]</a></sup>\n",
            "</td></tr>\n",
            "<tr>\n",
            "<td><a href=\"/wiki/Android_10\" title=\"Android 10\">Android 10</a>\n",
            "</td>\n",
            "<td>10.0\n",
            "</td>\n",
            "<td>September 3, 2019\n",
            "</td>\n",
            "<td>29\n",
            "</td>\n",
            "<td><sup class=\"reference\" id=\"cite_ref-28\"><a href=\"#cite_note-28\">[28]</a></sup>\n",
            "</td></tr></tbody></table>\n"
          ],
          "name": "stdout"
        }
      ]
    },
    {
      "cell_type": "code",
      "metadata": {
        "id": "xSMQ3tKQKUEo",
        "colab_type": "code",
        "colab": {}
      },
      "source": [
        ""
      ],
      "execution_count": 0,
      "outputs": []
    },
    {
      "cell_type": "markdown",
      "metadata": {
        "id": "EznFVLVvKt6M",
        "colab_type": "text"
      },
      "source": [
        "**3**.**Parsing** **Useful** **Information**\n",
        "\n",
        "*   Remove Undesired Tags\n",
        "*   Extract Table Header and Data\n",
        "\n"
      ]
    },
    {
      "cell_type": "code",
      "metadata": {
        "id": "CXGja63ILFsw",
        "colab_type": "code",
        "colab": {
          "base_uri": "https://localhost:8080/",
          "height": 140
        },
        "outputId": "a0bd354a-58bb-4de6-b1b9-c64cdabcc60f"
      },
      "source": [
        "headers = android_table.findAll('th')\n",
        "print(headers)\n",
        "print(len(headers))"
      ],
      "execution_count": 24,
      "outputs": [
        {
          "output_type": "stream",
          "text": [
            "[<th>Code name\n",
            "</th>, <th>Version numbers\n",
            "</th>, <th>Initial release date\n",
            "</th>, <th>API level\n",
            "</th>, <th>References\n",
            "</th>]\n",
            "5\n"
          ],
          "name": "stdout"
        }
      ]
    },
    {
      "cell_type": "code",
      "metadata": {
        "id": "K9SeEjTvLfit",
        "colab_type": "code",
        "colab": {
          "base_uri": "https://localhost:8080/",
          "height": 52
        },
        "outputId": "1b9baa1d-93d0-4a57-8ba5-0325a818a0a4"
      },
      "source": [
        "print(headers[0].text)"
      ],
      "execution_count": 26,
      "outputs": [
        {
          "output_type": "stream",
          "text": [
            "Code name\n",
            "\n"
          ],
          "name": "stdout"
        }
      ]
    },
    {
      "cell_type": "code",
      "metadata": {
        "id": "H3JMev7JLm2Z",
        "colab_type": "code",
        "colab": {
          "base_uri": "https://localhost:8080/",
          "height": 34
        },
        "outputId": "f69558ad-b4ed-422f-f8fb-c0f126ebb3cd"
      },
      "source": [
        "column_titles = [ct.text[:-1] for ct in headers]\n",
        "print(column_titles)"
      ],
      "execution_count": 27,
      "outputs": [
        {
          "output_type": "stream",
          "text": [
            "['Code name', 'Version numbers', 'Initial release date', 'API level', 'References']\n"
          ],
          "name": "stdout"
        }
      ]
    },
    {
      "cell_type": "code",
      "metadata": {
        "id": "SA_WTzNWL202",
        "colab_type": "code",
        "colab": {
          "base_uri": "https://localhost:8080/",
          "height": 122
        },
        "outputId": "c74de009-2e6e-4f11-dea8-ad1944fd9211"
      },
      "source": [
        "rows_data = android_table.findAll('tr')[1:]\n",
        "print(len(rows_data))\n",
        "first_row = rows_data[0].findAll('td',{})\n",
        "for d in first_row:\n",
        "  print(d.text[:-1])"
      ],
      "execution_count": 31,
      "outputs": [
        {
          "output_type": "stream",
          "text": [
            "19\n",
            "No codename\n",
            "1.0\n",
            "September 23, 2008\n",
            "1\n",
            "[9]\n"
          ],
          "name": "stdout"
        }
      ]
    },
    {
      "cell_type": "code",
      "metadata": {
        "id": "Iofb1LQlMDD9",
        "colab_type": "code",
        "colab": {}
      },
      "source": [
        "table_rows = []\n",
        "for row in rows_data:\n",
        "  current_row = []\n",
        "  row_data = row.findAll('td',{})\n",
        "  for idx,data in enumerate(row_data):\n",
        "    # if idx==0 or idx==3:\n",
        "    current_row.append(data.text[:-1])\n",
        "    # else:\n",
        "      # current_row.append(data.text)\n",
        "  table_rows.append(current_row)"
      ],
      "execution_count": 0,
      "outputs": []
    },
    {
      "cell_type": "code",
      "metadata": {
        "id": "fj962_2iNXeU",
        "colab_type": "code",
        "colab": {
          "base_uri": "https://localhost:8080/",
          "height": 54
        },
        "outputId": "cb22bdfb-7bfd-4889-b057-2a4ea2f30e3f"
      },
      "source": [
        "print(table_rows)"
      ],
      "execution_count": 39,
      "outputs": [
        {
          "output_type": "stream",
          "text": [
            "[['No codename', '1.0', 'September 23, 2008', '1', '[9]'], ['1.1', 'February 9, 2009', '2', '[9][11]'], ['Cupcake', '1.5', 'April 27, 2009', '3', ''], ['Donut', '1.6', 'September 15, 2009', '4', '[12]'], ['Eclair', '2.0 – 2.1', 'October 26, 2009', '5 – 7', '[13]'], ['Froyo', '2.2 – 2.2.3', 'May 20, 2010', '8', '[14]'], ['Gingerbread', '2.3 – 2.3.7', 'December 6, 2010', '9 – 10', '[15]'], ['Honeycomb', '3.0 – 3.2.6', 'February 22, 2011', '11 – 13', '[16]'], ['Ice Cream Sandwich', '4.0 – 4.0.4', 'October 18, 2011', '14 – 15', '[17]'], ['Jelly Bean', '4.1 – 4.3.1', 'July 9, 2012', '16 – 18', '[18]'], ['KitKat', '4.4 – 4.4.4', 'October 31, 2013', '19 – 20', '[19]'], ['Lollipop', '5.0 – 5.1.1', 'November 12, 2014', '21 – 22', '[20]'], ['Marshmallow', '6.0 – 6.0.1', 'October 5, 2015', '23', '[21]'], ['Nougat', '7.0', 'August 22, 2016', '24', '[22]'], ['7.1.0 – 7.1.2', 'October 4, 2016', '25', '[23][24][25]'], ['Oreo', '8.0', 'August 21, 2017', '26', '[26]'], ['8.1', 'December 5, 2017', '27', ''], ['Pie', '9.0', 'August 6, 2018', '28', '[27]'], ['Android 10', '10.0', 'September 3, 2019', '29', '[28]']]\n"
          ],
          "name": "stdout"
        }
      ]
    },
    {
      "cell_type": "code",
      "metadata": {
        "id": "1bFp-4a5NbAE",
        "colab_type": "code",
        "colab": {}
      },
      "source": [
        ""
      ],
      "execution_count": 0,
      "outputs": []
    },
    {
      "cell_type": "markdown",
      "metadata": {
        "id": "QAGEig7POx3b",
        "colab_type": "text"
      },
      "source": [
        "**4. Writing and Reading CSV Files**"
      ]
    },
    {
      "cell_type": "code",
      "metadata": {
        "id": "yyWrLZnWPB3k",
        "colab_type": "code",
        "colab": {}
      },
      "source": [
        "filename = 'android_version_history.csv'\n",
        "with open(filename,'w',encoding='utf-8') as f:\n",
        "  header_string = ','.join(column_titles)\n",
        "  header_string += '\\n'\n",
        "  f.write(header_string)\n",
        "\n",
        "  for row in table_rows[:-1]:\n",
        "    row_string = \"\"\n",
        "    row_string = ','.join(row)\n",
        "    row_string += '\\n'\n",
        "    f.write(row_string)\n"
      ],
      "execution_count": 0,
      "outputs": []
    },
    {
      "cell_type": "code",
      "metadata": {
        "id": "F3Yxfk93PaR2",
        "colab_type": "code",
        "colab": {}
      },
      "source": [
        ""
      ],
      "execution_count": 0,
      "outputs": []
    },
    {
      "cell_type": "markdown",
      "metadata": {
        "id": "aHRzLgsOQ2zL",
        "colab_type": "text"
      },
      "source": [
        "**5**.**Data** **Cleaning**\n",
        "\n",
        "*   Remove unwanted commas & symbols\n",
        "*   Undesired Information\n",
        "\n",
        "\n"
      ]
    },
    {
      "cell_type": "code",
      "metadata": {
        "id": "WvxJW3npRKjv",
        "colab_type": "code",
        "colab": {}
      },
      "source": [
        "import pandas as pd"
      ],
      "execution_count": 0,
      "outputs": []
    },
    {
      "cell_type": "code",
      "metadata": {
        "id": "_owyGstERawy",
        "colab_type": "code",
        "colab": {}
      },
      "source": [
        "df = pd.read_csv('android_version_history.csv')"
      ],
      "execution_count": 0,
      "outputs": []
    },
    {
      "cell_type": "code",
      "metadata": {
        "id": "CW3gnd9aRmNh",
        "colab_type": "code",
        "colab": {
          "base_uri": "https://localhost:8080/",
          "height": 195
        },
        "outputId": "4b402f4e-9b25-4958-eed3-e410f8fd5ff2"
      },
      "source": [
        "df.head()"
      ],
      "execution_count": 45,
      "outputs": [
        {
          "output_type": "execute_result",
          "data": {
            "text/html": [
              "<div>\n",
              "<style scoped>\n",
              "    .dataframe tbody tr th:only-of-type {\n",
              "        vertical-align: middle;\n",
              "    }\n",
              "\n",
              "    .dataframe tbody tr th {\n",
              "        vertical-align: top;\n",
              "    }\n",
              "\n",
              "    .dataframe thead th {\n",
              "        text-align: right;\n",
              "    }\n",
              "</style>\n",
              "<table border=\"1\" class=\"dataframe\">\n",
              "  <thead>\n",
              "    <tr style=\"text-align: right;\">\n",
              "      <th></th>\n",
              "      <th>Code name</th>\n",
              "      <th>Version numbers</th>\n",
              "      <th>Initial release date</th>\n",
              "      <th>API level</th>\n",
              "      <th>References</th>\n",
              "    </tr>\n",
              "  </thead>\n",
              "  <tbody>\n",
              "    <tr>\n",
              "      <th>No codename</th>\n",
              "      <td>1.0</td>\n",
              "      <td>September 23</td>\n",
              "      <td>2008</td>\n",
              "      <td>1</td>\n",
              "      <td>[9]</td>\n",
              "    </tr>\n",
              "    <tr>\n",
              "      <th>1.1</th>\n",
              "      <td>February 9</td>\n",
              "      <td>2009</td>\n",
              "      <td>2</td>\n",
              "      <td>[9][11]</td>\n",
              "      <td>NaN</td>\n",
              "    </tr>\n",
              "    <tr>\n",
              "      <th>Cupcake</th>\n",
              "      <td>1.5</td>\n",
              "      <td>April 27</td>\n",
              "      <td>2009</td>\n",
              "      <td>3</td>\n",
              "      <td>NaN</td>\n",
              "    </tr>\n",
              "    <tr>\n",
              "      <th>Donut</th>\n",
              "      <td>1.6</td>\n",
              "      <td>September 15</td>\n",
              "      <td>2009</td>\n",
              "      <td>4</td>\n",
              "      <td>[12]</td>\n",
              "    </tr>\n",
              "    <tr>\n",
              "      <th>Eclair</th>\n",
              "      <td>2.0 – 2.1</td>\n",
              "      <td>October 26</td>\n",
              "      <td>2009</td>\n",
              "      <td>5 – 7</td>\n",
              "      <td>[13]</td>\n",
              "    </tr>\n",
              "  </tbody>\n",
              "</table>\n",
              "</div>"
            ],
            "text/plain": [
              "              Code name Version numbers  ...  API level References\n",
              "No codename         1.0    September 23  ...          1        [9]\n",
              "1.1          February 9            2009  ...    [9][11]        NaN\n",
              "Cupcake             1.5        April 27  ...          3        NaN\n",
              "Donut               1.6    September 15  ...          4       [12]\n",
              "Eclair        2.0 – 2.1      October 26  ...      5 – 7       [13]\n",
              "\n",
              "[5 rows x 5 columns]"
            ]
          },
          "metadata": {
            "tags": []
          },
          "execution_count": 45
        }
      ]
    },
    {
      "cell_type": "code",
      "metadata": {
        "id": "3yF9yNBfRouv",
        "colab_type": "code",
        "colab": {}
      },
      "source": [
        ""
      ],
      "execution_count": 0,
      "outputs": []
    }
  ]
}